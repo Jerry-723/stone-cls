{
 "cells": [
  {
   "cell_type": "code",
   "execution_count": 1,
   "metadata": {},
   "outputs": [],
   "source": [
    "import sys\n",
    "import os\n",
    "notebook_dir = os.getcwd()\n",
    "project_root = os.path.abspath(os.path.join(notebook_dir, '..'))\n",
    "if project_root not in sys.path:\n",
    "    sys.path.append(project_root)"
   ]
  },
  {
   "cell_type": "code",
   "execution_count": 2,
   "metadata": {},
   "outputs": [],
   "source": [
    "from dataset import *\n",
    "from algorithms import *\n",
    "from common import *"
   ]
  },
  {
   "cell_type": "code",
   "execution_count": 3,
   "metadata": {},
   "outputs": [],
   "source": [
    "stone = Stone(prepared=True)"
   ]
  },
  {
   "cell_type": "code",
   "execution_count": 4,
   "metadata": {},
   "outputs": [],
   "source": [
    "import clip\n",
    "device = \"cuda\" if torch.cuda.is_available() else \"cpu\"\n",
    "model, preprocess = clip.load(\"RN50\", device=device)"
   ]
  },
  {
   "cell_type": "code",
   "execution_count": null,
   "metadata": {},
   "outputs": [],
   "source": [
    "dataloader = get_dataloader(\"stone\", preprocess, \"general\", \"train\")"
   ]
  },
  {
   "cell_type": "code",
   "execution_count": 6,
   "metadata": {},
   "outputs": [
    {
     "name": "stdout",
     "output_type": "stream",
     "text": [
      "Error opening image /mnt/sharedata/ssd/users/jiaxi/dataset/nimrf.net.cn/火成岩/花岗闪长岩_2311C00012M0041129.jpg. Skipping.\n",
      "Error opening image /mnt/sharedata/ssd/users/jiaxi/dataset/nimrf.net.cn/变质岩/绢云母石英片岩_2311C00012M0041385.jpg. Skipping.\n",
      "Error opening image /mnt/sharedata/ssd/users/jiaxi/dataset/nimrf.net.cn/沉积岩/粉砂岩（宣州景文石）_2334C0001200000975.jpg. Skipping.\n",
      "Error opening image /mnt/sharedata/ssd/users/jiaxi/dataset/nimrf.net.cn/沉积岩/灰岩（灵璧石）_2334C0001200001172.jpg. Skipping.\n",
      "Error opening image /mnt/sharedata/ssd/users/jiaxi/dataset/nimrf.net.cn/变质岩/糜棱岩_2362C0001200000477-1.jpg. Skipping.\n",
      "Error opening image /mnt/sharedata/ssd/users/jiaxi/dataset/nimrf.net.cn/变质岩/云英岩_2362C0001200000468.jpg. Skipping.\n",
      "Error opening image /mnt/sharedata/ssd/users/jiaxi/dataset/nimrf.net.cn/变质岩/灰白色板岩_2362C0001200000448.jpg. Skipping.\n",
      "Error opening image /mnt/sharedata/ssd/users/jiaxi/dataset/nimrf.net.cn/火成岩/斜长石长英岩_2311C00012M0041192.jpg. Skipping.\n",
      "Error opening image /mnt/sharedata/ssd/users/jiaxi/dataset/nimrf.net.cn/火成岩/青磐岩_2362C0001200000103.jpg. Skipping.\n",
      "Error opening image /mnt/sharedata/ssd/users/jiaxi/dataset/nimrf.net.cn/火成岩/白云母绿泥石石英闪长英岩_2311C00012M0041184.jpg. Skipping.\n",
      "Error opening image /mnt/sharedata/ssd/users/jiaxi/dataset/nimrf.net.cn/沉积岩/细粒长石砂岩_2362C0001200000216.jpg. Skipping.\n",
      "Error opening image /mnt/sharedata/ssd/users/jiaxi/dataset/nimrf.net.cn/变质岩/灰白色板岩_2362C0001200000448-1.jpg. Skipping.\n",
      "Error opening image /mnt/sharedata/ssd/users/jiaxi/dataset/nimrf.net.cn/火成岩/辉石玢岩_2311C00012M0040988.jpg. Skipping.\n",
      "Error opening image /mnt/sharedata/ssd/users/jiaxi/dataset/nimrf.net.cn/变质岩/石榴石云母片岩_2311C00012M0041405.jpg. Skipping.\n",
      "Error opening image /mnt/sharedata/ssd/users/jiaxi/dataset/nimrf.net.cn/变质岩/绢云母千枚岩_2362C0001200000431.jpg. Skipping.\n",
      "Error opening image /mnt/sharedata/ssd/users/jiaxi/dataset/nimrf.net.cn/变质岩/绢云母板岩_2362C0001200000449.jpg. Skipping.\n",
      "Error opening image /mnt/sharedata/ssd/users/jiaxi/dataset/nimrf.net.cn/变质岩/透辉石石榴子石矽卡岩_2362C0001200000461.jpg. Skipping.\n",
      "Error opening image /mnt/sharedata/ssd/users/jiaxi/dataset/nimrf.net.cn/变质岩/黑色板岩_2362C0001200000447-1.jpg. Skipping.\n",
      "Error opening image /mnt/sharedata/ssd/users/jiaxi/dataset/nimrf.net.cn/变质岩/绢云母板岩_2362C0001200000449-1.jpg. Skipping.\n",
      "Error opening image /mnt/sharedata/ssd/users/jiaxi/dataset/nimrf.net.cn/变质岩/石墨石英片岩_2362C0001200000406.jpg. Skipping.\n",
      "Error opening image /mnt/sharedata/ssd/users/jiaxi/dataset/nimrf.net.cn/沉积岩/细砂岩_2322C0001200018299.jpg. Skipping.\n",
      "Error opening image /mnt/sharedata/ssd/users/jiaxi/dataset/nimrf.net.cn/变质岩/黑云母片岩_2311C00012M0041377.jpg. Skipping.\n",
      "Error opening image /mnt/sharedata/ssd/users/jiaxi/dataset/nimrf.net.cn/变质岩/透辉石石榴子石矽卡岩_2362C0001200000461-1.jpg. Skipping.\n",
      "Error opening image /mnt/sharedata/ssd/users/jiaxi/dataset/nimrf.net.cn/变质岩/萤石质构造角砾岩_2362C0001200000474.jpg. Skipping.\n",
      "Error opening image /mnt/sharedata/ssd/users/jiaxi/dataset/nimrf.net.cn/变质岩/石榴石黑云母片岩_2311C00012M0041404.jpg. Skipping.\n",
      "Error opening image /mnt/sharedata/ssd/users/jiaxi/dataset/nimrf.net.cn/变质岩/角闪片岩_2311C00012M0041380.jpg. Skipping.\n",
      "Error opening image /mnt/sharedata/ssd/users/jiaxi/dataset/nimrf.net.cn/火成岩/玢岩质熔岩角砾岩_2311C00012M0041194.jpg. Skipping.\n",
      "Error opening image /mnt/sharedata/ssd/users/jiaxi/dataset/nimrf.net.cn/火成岩/粗粒花岗岩_2364C0001200000356.jpg. Skipping.\n",
      "Error opening image /mnt/sharedata/ssd/users/jiaxi/dataset/nimrf.net.cn/变质岩/糜棱岩_2362C0001200000477.jpg. Skipping.\n",
      "Error opening image /mnt/sharedata/ssd/users/jiaxi/dataset/nimrf.net.cn/变质岩/蛇纹岩_2362C0001200000470.jpg. Skipping.\n",
      "Error opening image /mnt/sharedata/ssd/users/jiaxi/dataset/nimrf.net.cn/变质岩/石榴子石矽卡岩_2362C0001200000462.jpg. Skipping.\n",
      "Error opening image /mnt/sharedata/ssd/users/jiaxi/dataset/nimrf.net.cn/变质岩/石墨石英片岩_2362C0001200000406-1.jpg. Skipping.\n",
      "Error opening image /mnt/sharedata/ssd/users/jiaxi/dataset/nimrf.net.cn/沉积岩/灰岩（灵璧石）_2334C0001200001010.jpg. Skipping.\n",
      "Error opening image /mnt/sharedata/ssd/users/jiaxi/dataset/nimrf.net.cn/沉积岩/炭质石英砂岩_2362C0001200000222-1.jpg. Skipping.\n",
      "Error opening image /mnt/sharedata/ssd/users/jiaxi/dataset/nimrf.net.cn/变质岩/绿泥石片岩_2311C00012M0041395.jpg. Skipping.\n",
      "Error opening image /mnt/sharedata/ssd/users/jiaxi/dataset/nimrf.net.cn/变质岩/云母片岩_2311C00012M0041409.jpg. Skipping.\n",
      "Error opening image /mnt/sharedata/ssd/users/jiaxi/dataset/nimrf.net.cn/火成岩/细粒变质碱性白岗岩_2311C00012M0041126.jpg. Skipping.\n",
      "Error opening image /mnt/sharedata/ssd/users/jiaxi/dataset/nimrf.net.cn/火成岩/二长岩_2311C0001200039957.jpg. Skipping.\n",
      "Error opening image /mnt/sharedata/ssd/users/jiaxi/dataset/nimrf.net.cn/变质岩/二云母片岩_2311C00012M0041376.jpg. Skipping.\n",
      "Error opening image /mnt/sharedata/ssd/users/jiaxi/dataset/nimrf.net.cn/变质岩/石榴子石矽卡岩_2362C0001200000462-1.jpg. Skipping.\n",
      "Error opening image /mnt/sharedata/ssd/users/jiaxi/dataset/nimrf.net.cn/变质岩/萤石质构造角砾岩_2362C0001200000474-1.jpg. Skipping.\n",
      "Error opening image /mnt/sharedata/ssd/users/jiaxi/dataset/nimrf.net.cn/变质岩/二云片岩_. Skipping.\n",
      "Error opening image /mnt/sharedata/ssd/users/jiaxi/dataset/nimrf.net.cn/沉积岩/菱铁矿角砾岩_2362C0001200000214.jpg. Skipping.\n",
      "Error opening image /mnt/sharedata/ssd/users/jiaxi/dataset/nimrf.net.cn/变质岩/绢云母千枚岩_2362C0001200000431-1.jpg. Skipping.\n",
      "Error opening image /mnt/sharedata/ssd/users/jiaxi/dataset/nimrf.net.cn/变质岩/黄铁绢英岩_2362C0001200000467-1.jpg. Skipping.\n",
      "Error opening image /mnt/sharedata/ssd/users/jiaxi/dataset/nimrf.net.cn/变质岩/白云母片岩_2311C00012M0041373.jpg. Skipping.\n",
      "Error opening image /mnt/sharedata/ssd/users/jiaxi/dataset/nimrf.net.cn/火成岩/杏仁状玄武岩_2336C00012M0000018-1.jpg. Skipping.\n",
      "Error opening image /mnt/sharedata/ssd/users/jiaxi/dataset/nimrf.net.cn/火成岩/黑云母斜长石微斜长石长英岩_2311C00012M0041186.jpg. Skipping.\n",
      "Error opening image /mnt/sharedata/ssd/users/jiaxi/dataset/nimrf.net.cn/火成岩/伊丁石辉绿岩_2311C00012M0041014.jpg. Skipping.\n",
      "Error opening image /mnt/sharedata/ssd/users/jiaxi/dataset/nimrf.net.cn/变质岩/蛇纹岩_2362C0001200000469-1.jpg. Skipping.\n",
      "Error opening image /mnt/sharedata/ssd/users/jiaxi/dataset/nimrf.net.cn/沉积岩/深灰色生物碎屑灰岩_2311C0001200051553.jpg. Skipping.\n",
      "Error opening image /mnt/sharedata/ssd/users/jiaxi/dataset/nimrf.net.cn/火成岩/变质石英闪长长英岩_2311C00012M0041185.jpg. Skipping.\n",
      "Error opening image /mnt/sharedata/ssd/users/jiaxi/dataset/nimrf.net.cn/变质岩/红帘石白云母片岩_2311C00012M0041378.jpg. Skipping.\n",
      "Error opening image /mnt/sharedata/ssd/users/jiaxi/dataset/nimrf.net.cn/火成岩/青磐岩_2362C0001200000103-1.jpg. Skipping.\n",
      "Error opening image /mnt/sharedata/ssd/users/jiaxi/dataset/nimrf.net.cn/变质岩/云英岩_2362C0001200000468-1.jpg. Skipping.\n"
     ]
    }
   ],
   "source": [
    "all_images, all_labels, image_features, label_features = clip_features(model, dataloader)"
   ]
  },
  {
   "cell_type": "code",
   "execution_count": 7,
   "metadata": {},
   "outputs": [],
   "source": [
    "test_dataloader = get_dataloader(\"stone\", preprocess, \"general\", \"test\")"
   ]
  },
  {
   "cell_type": "code",
   "execution_count": 8,
   "metadata": {},
   "outputs": [
    {
     "name": "stdout",
     "output_type": "stream",
     "text": [
      "Error opening image /mnt/sharedata/ssd/users/jiaxi/dataset/nimrf.net.cn/沉积岩/菱铁矿角砾岩_2362C0001200000214-1.jpg. Skipping.\n",
      "Error opening image /mnt/sharedata/ssd/users/jiaxi/dataset/nimrf.net.cn/沉积岩/岩屑长石砂岩_2322C0001200014874.jpg. Skipping.\n",
      "Error opening image /mnt/sharedata/ssd/users/jiaxi/dataset/nimrf.net.cn/沉积岩/灰岩（灵璧石）_2334C0001200001174.jpg. Skipping.\n",
      "Error opening image /mnt/sharedata/ssd/users/jiaxi/dataset/nimrf.net.cn/变质岩/绿泥石斜长石片岩_2311C00012M0041397.jpg. Skipping.\n",
      "Error opening image /mnt/sharedata/ssd/users/jiaxi/dataset/nimrf.net.cn/火成岩/脱玻流纹岩_2362C0001200000157-2.jpg. Skipping.\n",
      "Error opening image /mnt/sharedata/ssd/users/jiaxi/dataset/nimrf.net.cn/变质岩/云母片岩_2311C00012M0041410.jpg. Skipping.\n",
      "Error opening image /mnt/sharedata/ssd/users/jiaxi/dataset/nimrf.net.cn/沉积岩/粉砂岩（宣州景文石）_2334C0001200000979.jpg. Skipping.\n",
      "Error opening image /mnt/sharedata/ssd/users/jiaxi/dataset/nimrf.net.cn/变质岩/染色大理岩_2311C00012M0041347.jpg. Skipping.\n",
      "Error opening image /mnt/sharedata/ssd/users/jiaxi/dataset/nimrf.net.cn/变质岩/黑色板岩_2362C0001200000447.jpg. Skipping.\n",
      "Error opening image /mnt/sharedata/ssd/users/jiaxi/dataset/nimrf.net.cn/火成岩/角闪石花岗闪长岩_2311C00012M0041132.jpg. Skipping.\n",
      "Error opening image /mnt/sharedata/ssd/users/jiaxi/dataset/nimrf.net.cn/变质岩/绢云母石英钙质片岩_2311C00012M0041383.jpg. Skipping.\n",
      "Error opening image /mnt/sharedata/ssd/users/jiaxi/dataset/nimrf.net.cn/沉积岩/灰岩（灵璧石）_2334C0001200001169.jpg. Skipping.\n"
     ]
    }
   ],
   "source": [
    "__, test_all_labels, test_image_features, __ = clip_features(model, test_dataloader)"
   ]
  },
  {
   "cell_type": "code",
   "execution_count": 8,
   "metadata": {},
   "outputs": [
    {
     "data": {
      "text/plain": [
       "torch.Size([105770, 3, 224, 224])"
      ]
     },
     "execution_count": 8,
     "metadata": {},
     "output_type": "execute_result"
    }
   ],
   "source": [
    "all_images.size()"
   ]
  },
  {
   "cell_type": "code",
   "execution_count": 7,
   "metadata": {},
   "outputs": [
    {
     "data": {
      "text/plain": [
       "torch.Size([1500, 3, 224, 224])"
      ]
     },
     "execution_count": 7,
     "metadata": {},
     "output_type": "execute_result"
    }
   ],
   "source": [
    "all_images.size()"
   ]
  },
  {
   "cell_type": "code",
   "execution_count": 8,
   "metadata": {},
   "outputs": [
    {
     "data": {
      "text/plain": [
       "torch.Size([1500, 1024])"
      ]
     },
     "execution_count": 8,
     "metadata": {},
     "output_type": "execute_result"
    }
   ],
   "source": [
    "image_features.size()"
   ]
  },
  {
   "cell_type": "code",
   "execution_count": 9,
   "metadata": {},
   "outputs": [
    {
     "data": {
      "text/plain": [
       "torch.Size([1500, 1024])"
      ]
     },
     "execution_count": 9,
     "metadata": {},
     "output_type": "execute_result"
    }
   ],
   "source": [
    "label_features.size()"
   ]
  },
  {
   "cell_type": "code",
   "execution_count": 11,
   "metadata": {},
   "outputs": [],
   "source": [
    "train_features = image_features.cpu().numpy()"
   ]
  },
  {
   "cell_type": "code",
   "execution_count": 9,
   "metadata": {},
   "outputs": [],
   "source": [
    "from algorithms import lrprob"
   ]
  },
  {
   "cell_type": "code",
   "execution_count": 12,
   "metadata": {},
   "outputs": [
    {
     "name": "stdout",
     "output_type": "stream",
     "text": [
      "RUNNING THE L-BFGS-B CODE\n",
      "\n",
      "           * * *\n",
      "\n",
      "Machine precision = 2.220D-16\n",
      " N =         3075     M =           10\n",
      "\n",
      "At X0         0 variables are exactly at the bounds\n",
      "\n",
      "At iterate    0    f=  1.09861D+00    |proj g|=  9.27327D-02\n"
     ]
    },
    {
     "name": "stderr",
     "output_type": "stream",
     "text": [
      " This problem is unconstrained.\n"
     ]
    },
    {
     "name": "stdout",
     "output_type": "stream",
     "text": [
      "\n",
      "At iterate   50    f=  8.30894D-01    |proj g|=  1.91777D-03\n",
      "\n",
      "At iterate  100    f=  8.15650D-01    |proj g|=  1.70839D-03\n",
      "\n",
      "At iterate  150    f=  8.10811D-01    |proj g|=  9.98634D-04\n",
      "\n",
      "At iterate  200    f=  8.09000D-01    |proj g|=  7.99092D-04\n",
      "\n",
      "At iterate  250    f=  8.08491D-01    |proj g|=  4.16353D-04\n",
      "\n",
      "At iterate  300    f=  8.08152D-01    |proj g|=  9.32227D-05\n",
      "\n",
      "           * * *\n",
      "\n",
      "Tit   = total number of iterations\n",
      "Tnf   = total number of function evaluations\n",
      "Tnint = total number of segments explored during Cauchy searches\n",
      "Skip  = number of BFGS updates skipped\n",
      "Nact  = number of active bounds at final generalized Cauchy point\n",
      "Projg = norm of the final projected gradient\n",
      "F     = final function value\n",
      "\n",
      "           * * *\n",
      "\n",
      "   N    Tit     Tnf  Tnint  Skip  Nact     Projg        F\n",
      " 3075    300    337      1     0     0   9.322D-05   8.082D-01\n",
      "  F =  0.80815173705049426     \n",
      "\n",
      "CONVERGENCE: NORM_OF_PROJECTED_GRADIENT_<=_PGTOL            \n"
     ]
    }
   ],
   "source": [
    "classifier = lrprob.train(train_features, all_labels)"
   ]
  },
  {
   "cell_type": "code",
   "execution_count": 13,
   "metadata": {},
   "outputs": [],
   "source": [
    "preds = lrprob.get_pred(classifier, test_image_features.cpu().numpy())"
   ]
  },
  {
   "cell_type": "code",
   "execution_count": 16,
   "metadata": {},
   "outputs": [
    {
     "data": {
      "text/plain": [
       "(0.625312050835918, 0.6318148113925465)"
      ]
     },
     "execution_count": 16,
     "metadata": {},
     "output_type": "execute_result"
    }
   ],
   "source": [
    "calculate_metrics(test_all_labels, preds)"
   ]
  }
 ],
 "metadata": {
  "kernelspec": {
   "display_name": "gemma2",
   "language": "python",
   "name": "python3"
  },
  "language_info": {
   "codemirror_mode": {
    "name": "ipython",
    "version": 3
   },
   "file_extension": ".py",
   "mimetype": "text/x-python",
   "name": "python",
   "nbconvert_exporter": "python",
   "pygments_lexer": "ipython3",
   "version": "3.10.15"
  }
 },
 "nbformat": 4,
 "nbformat_minor": 2
}
